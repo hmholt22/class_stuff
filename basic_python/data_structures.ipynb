{
 "cells": [
  {
   "cell_type": "markdown",
   "id": "e2c2e3e5",
   "metadata": {},
   "source": [
    "# Data structures, loops and algorithms\n",
    "\n",
    "Data structures are a fundamental part of computer science applications. In this section we'll learn about some useful data structures and some processes for dealing with them\n",
    "\n",
    "## Arrays and lists\n",
    "\n",
    "The simplest data structures are arrays and lists. In python \"lists\" and \"arrays\" are used somewhat interchangeably. Technically \"arrays\" are lists of only a single data type, while lists can contain elements that are of any data type. \n",
    "\n",
    "An array is declared by using the `[]` brackets."
   ]
  },
  {
   "cell_type": "code",
   "execution_count": 1,
   "id": "67d094be",
   "metadata": {},
   "outputs": [
    {
     "data": {
      "text/plain": [
       "[]"
      ]
     },
     "execution_count": 1,
     "metadata": {},
     "output_type": "execute_result"
    }
   ],
   "source": [
    "my_array = []\n",
    "my_array"
   ]
  },
  {
   "cell_type": "markdown",
   "id": "f4d5eac6",
   "metadata": {},
   "source": [
    "Each array contains elements. As mentioned, arrays can only contain a single data type. Let's create an array of numbers with five elements:"
   ]
  },
  {
   "cell_type": "code",
   "execution_count": 31,
   "id": "14bd3e50",
   "metadata": {},
   "outputs": [
    {
     "data": {
      "text/plain": [
       "[3, 5, 8, 9, 10]"
      ]
     },
     "execution_count": 31,
     "metadata": {},
     "output_type": "execute_result"
    }
   ],
   "source": [
    "my_array = [3, 5, 8, 9, 10]\n",
    "my_array"
   ]
  },
  {
   "cell_type": "markdown",
   "id": "e030d857",
   "metadata": {},
   "source": [
    "### Indexing\n",
    "\n",
    "Each element in an array has a position in that array given by a number. Indexes in python start with 0, so index 0 is the first position in the array. You can locate elements in an array by its index. Again - use the `[]` brackets to locate elements in an array.\n",
    "\n",
    "For instance if we wanted to know what element was in the first position of `my_array`, we would call:"
   ]
  },
  {
   "cell_type": "code",
   "execution_count": 6,
   "id": "299487e9",
   "metadata": {},
   "outputs": [
    {
     "data": {
      "text/plain": [
       "3"
      ]
     },
     "execution_count": 6,
     "metadata": {},
     "output_type": "execute_result"
    }
   ],
   "source": [
    "my_array[0]"
   ]
  },
  {
   "cell_type": "markdown",
   "id": "4d508e05",
   "metadata": {},
   "source": [
    "We see that the number 3 is in the first position of the array - which is exactly as we expected. We can call any position in the array like this. Just keep in mind because the index begins at 0, index 1 is actually the second position in the array, index 3 is actually the fourth position in the array, and so on."
   ]
  },
  {
   "cell_type": "code",
   "execution_count": 8,
   "id": "ca6ad2f0",
   "metadata": {},
   "outputs": [
    {
     "data": {
      "text/plain": [
       "5"
      ]
     },
     "execution_count": 8,
     "metadata": {},
     "output_type": "execute_result"
    }
   ],
   "source": [
    "my_array[1]"
   ]
  },
  {
   "cell_type": "code",
   "execution_count": 7,
   "id": "7bac36eb",
   "metadata": {},
   "outputs": [
    {
     "data": {
      "text/plain": [
       "9"
      ]
     },
     "execution_count": 7,
     "metadata": {},
     "output_type": "execute_result"
    }
   ],
   "source": [
    "my_array[3]"
   ]
  },
  {
   "cell_type": "markdown",
   "id": "e5fffa50",
   "metadata": {},
   "source": [
    "### Lists \n",
    "\n",
    "As mentioned, lists are very similar to arrays, but they can contain more than one data type. You can declare a list by calling `list()`. Note the double ``(())`` constructor:"
   ]
  },
  {
   "cell_type": "code",
   "execution_count": 10,
   "id": "cc669f8d",
   "metadata": {},
   "outputs": [
    {
     "data": {
      "text/plain": [
       "[3, 'hello', 6.5, True]"
      ]
     },
     "execution_count": 10,
     "metadata": {},
     "output_type": "execute_result"
    }
   ],
   "source": [
    "my_list = list((3, \"hello\", 6.5, True))\n",
    "my_list"
   ]
  },
  {
   "cell_type": "markdown",
   "id": "98113f84",
   "metadata": {},
   "source": [
    "Indexing with lists works exactly the same as arrays:"
   ]
  },
  {
   "cell_type": "code",
   "execution_count": 11,
   "id": "f1a88718",
   "metadata": {},
   "outputs": [
    {
     "data": {
      "text/plain": [
       "'hello'"
      ]
     },
     "execution_count": 11,
     "metadata": {},
     "output_type": "execute_result"
    }
   ],
   "source": [
    "my_list[1]"
   ]
  },
  {
   "cell_type": "markdown",
   "id": "dd147758",
   "metadata": {},
   "source": [
    "### Length\n",
    "\n",
    "A common operation is to get the length of an array. This is done with the native function `len()` "
   ]
  },
  {
   "cell_type": "code",
   "execution_count": 12,
   "id": "d19c0fbb",
   "metadata": {},
   "outputs": [
    {
     "data": {
      "text/plain": [
       "5"
      ]
     },
     "execution_count": 12,
     "metadata": {},
     "output_type": "execute_result"
    }
   ],
   "source": [
    "len(my_array)"
   ]
  },
  {
   "cell_type": "markdown",
   "id": "0c80abdb",
   "metadata": {},
   "source": [
    "## Operators\n",
    "\n",
    "Arrays and lists have special built in methods to handle in python. Here are a few of the more popular ones:\n",
    "\n",
    "- `.append()` - Adds an element to the end of a list\n",
    "- `.insert(<index> , <value>)` - inserts or an value at a specified index.\n",
    "- `.pop()` - returns the last element in the list and removes the element from the list (useful for stacks). Can call `.pop(<index>)` to pop a specific element\n",
    "- `.reverse()` - reverses the order of the list\n",
    "- `.sort()` - sorts the list. "
   ]
  },
  {
   "cell_type": "code",
   "execution_count": 22,
   "id": "e2dcbf2a",
   "metadata": {},
   "outputs": [
    {
     "data": {
      "text/plain": [
       "[3, 5, 8, 9, 10, 18]"
      ]
     },
     "execution_count": 22,
     "metadata": {},
     "output_type": "execute_result"
    }
   ],
   "source": [
    "#Add 18 to the end of an array\n",
    "my_array.append(18)\n",
    "my_array"
   ]
  },
  {
   "cell_type": "code",
   "execution_count": 23,
   "id": "03b38bc1",
   "metadata": {},
   "outputs": [
    {
     "data": {
      "text/plain": [
       "[3, 5, 8, 1, 9, 10, 18]"
      ]
     },
     "execution_count": 23,
     "metadata": {},
     "output_type": "execute_result"
    }
   ],
   "source": [
    "my_array.insert(3, 1)\n",
    "my_array"
   ]
  },
  {
   "cell_type": "code",
   "execution_count": 24,
   "id": "dd66ce5e",
   "metadata": {},
   "outputs": [
    {
     "data": {
      "text/plain": [
       "18"
      ]
     },
     "execution_count": 24,
     "metadata": {},
     "output_type": "execute_result"
    }
   ],
   "source": [
    "#.pop() removes the last item in the list and returns it\n",
    "my_array.pop()"
   ]
  },
  {
   "cell_type": "code",
   "execution_count": 25,
   "id": "bc7d1a13",
   "metadata": {},
   "outputs": [
    {
     "data": {
      "text/plain": [
       "[3, 5, 8, 1, 9, 10]"
      ]
     },
     "execution_count": 25,
     "metadata": {},
     "output_type": "execute_result"
    }
   ],
   "source": [
    "#After .pop()\n",
    "my_array"
   ]
  },
  {
   "cell_type": "markdown",
   "id": "c9e22888",
   "metadata": {},
   "source": [
    "## Stacks\n",
    "\n",
    "Stacks are a data type in computer science that can be thought of as extensions of arrays. They're last in, first out structures, which makes them useful for storing sequences of elements to be used when necessary. In python, you can simply treat them as arrays to be manipulated with `.append()` and `.pop()` "
   ]
  },
  {
   "cell_type": "code",
   "execution_count": 27,
   "id": "bf55e4a2",
   "metadata": {},
   "outputs": [],
   "source": [
    "my_stack = []"
   ]
  },
  {
   "cell_type": "code",
   "execution_count": 28,
   "id": "3c263510",
   "metadata": {},
   "outputs": [
    {
     "data": {
      "text/plain": [
       "['a', 'b', 'c']"
      ]
     },
     "execution_count": 28,
     "metadata": {},
     "output_type": "execute_result"
    }
   ],
   "source": [
    "my_stack.append('a')\n",
    "my_stack.append('b')\n",
    "my_stack.append('c')\n",
    "my_stack"
   ]
  },
  {
   "cell_type": "code",
   "execution_count": 29,
   "id": "16574382",
   "metadata": {},
   "outputs": [
    {
     "data": {
      "text/plain": [
       "'c'"
      ]
     },
     "execution_count": 29,
     "metadata": {},
     "output_type": "execute_result"
    }
   ],
   "source": [
    "my_stack.pop()"
   ]
  },
  {
   "cell_type": "code",
   "execution_count": 30,
   "id": "38fa809a",
   "metadata": {},
   "outputs": [
    {
     "data": {
      "text/plain": [
       "'b'"
      ]
     },
     "execution_count": 30,
     "metadata": {},
     "output_type": "execute_result"
    }
   ],
   "source": [
    "my_stack.pop()"
   ]
  },
  {
   "cell_type": "code",
   "execution_count": 31,
   "id": "4f5f4b65",
   "metadata": {},
   "outputs": [
    {
     "data": {
      "text/plain": [
       "'a'"
      ]
     },
     "execution_count": 31,
     "metadata": {},
     "output_type": "execute_result"
    }
   ],
   "source": [
    "my_stack.pop()"
   ]
  },
  {
   "cell_type": "code",
   "execution_count": 32,
   "id": "c71b3a5d",
   "metadata": {},
   "outputs": [
    {
     "data": {
      "text/plain": [
       "[]"
      ]
     },
     "execution_count": 32,
     "metadata": {},
     "output_type": "execute_result"
    }
   ],
   "source": [
    "my_stack"
   ]
  },
  {
   "cell_type": "markdown",
   "id": "3b87dbdd",
   "metadata": {},
   "source": [
    "#### A note on Deques \n",
    "\n",
    "You might think that appending and popping from the beginning of a stack would be just as easy as from the end. However, popping from the root of a stack is time consuming because each of the indicies then have to be shifted left. So popping from the root of a stack is O(n) wheras popping from the end of a stack is O(1). This means that first in-first out operations are more difficult for computers to handle. \n",
    "\n",
    "For this reason we have special data structures called Deques which can be popped from left or right in O(1) time. We will cover these later on in the course."
   ]
  },
  {
   "cell_type": "markdown",
   "id": "6e34d5fc",
   "metadata": {},
   "source": [
    "## Dictionaries (or hashmaps)\n",
    "\n",
    "Dictionaries are correspondence lists of elements, similar to what you would find in a real dictionary. Each dictionary has a set of keys which corresponds with a set of values. Dicitonaries are declared by using `{}` braces."
   ]
  },
  {
   "cell_type": "code",
   "execution_count": 21,
   "id": "518118d0",
   "metadata": {},
   "outputs": [],
   "source": [
    "my_dict = {}"
   ]
  },
  {
   "cell_type": "markdown",
   "id": "33b99cbf",
   "metadata": {},
   "source": [
    "Elements in dictionaries can be assigned one of two ways. To do so when declaring the dictionary, you can use the `:` symbol to link a key to a specific value:"
   ]
  },
  {
   "cell_type": "code",
   "execution_count": 22,
   "id": "7eca72e3",
   "metadata": {},
   "outputs": [
    {
     "data": {
      "text/plain": [
       "{'key': 'value'}"
      ]
     },
     "execution_count": 22,
     "metadata": {},
     "output_type": "execute_result"
    }
   ],
   "source": [
    "my_dict = {'key': 'value'}\n",
    "my_dict"
   ]
  },
  {
   "cell_type": "markdown",
   "id": "ae16753c",
   "metadata": {},
   "source": [
    "Alternatively if your dictionary already exists, you can create new entries using the syntax: \n",
    "\n",
    "`dict[<key_name>] = <value>`"
   ]
  },
  {
   "cell_type": "code",
   "execution_count": 23,
   "id": "6f5d29c9",
   "metadata": {},
   "outputs": [
    {
     "data": {
      "text/plain": [
       "{'key': 'value', 'new_key': 'new_value'}"
      ]
     },
     "execution_count": 23,
     "metadata": {},
     "output_type": "execute_result"
    }
   ],
   "source": [
    "my_dict['new_key'] = 'new_value'\n",
    "my_dict"
   ]
  },
  {
   "cell_type": "markdown",
   "id": "4d4875ab",
   "metadata": {},
   "source": [
    "Dictionaries are extremely useful because lookup on a dictionary key is always O(1) time. If you ever want to solve a problem fast. Using dictionaries is a great idea. To look up in a dictionary, use the `[]` similar to arrays:"
   ]
  },
  {
   "cell_type": "code",
   "execution_count": 24,
   "id": "36c7f88a",
   "metadata": {},
   "outputs": [
    {
     "data": {
      "text/plain": [
       "'value'"
      ]
     },
     "execution_count": 24,
     "metadata": {},
     "output_type": "execute_result"
    }
   ],
   "source": [
    "my_dict['key']"
   ]
  },
  {
   "cell_type": "markdown",
   "id": "99951b41",
   "metadata": {},
   "source": [
    "### Dictionary methods\n",
    "\n",
    "Dictionaries have three useful built in functions:\n",
    "\n",
    "- `<dict_name>.keys()` - returns a (view of a) list of the keys in a dictionary\n",
    "- `<dict_name>.values()` - returns a (view of a) list of the values in a dictionary\n",
    "- `<dict_name>.items()` - returns a (view of a) list of `(key, value)` tuples in the dictionary"
   ]
  },
  {
   "cell_type": "code",
   "execution_count": 25,
   "id": "863c57df",
   "metadata": {},
   "outputs": [
    {
     "data": {
      "text/plain": [
       "dict_keys(['key', 'new_key'])"
      ]
     },
     "execution_count": 25,
     "metadata": {},
     "output_type": "execute_result"
    }
   ],
   "source": [
    "my_dict.keys()"
   ]
  },
  {
   "cell_type": "code",
   "execution_count": 26,
   "id": "3b25fcdd",
   "metadata": {},
   "outputs": [
    {
     "data": {
      "text/plain": [
       "dict_values(['value', 'new_value'])"
      ]
     },
     "execution_count": 26,
     "metadata": {},
     "output_type": "execute_result"
    }
   ],
   "source": [
    "my_dict.values()"
   ]
  },
  {
   "cell_type": "markdown",
   "id": "9a54835f",
   "metadata": {},
   "source": [
    "These functions return views of the dictionary, so if the dictionary changes, then the view will also change. But you can iterate over these values just like you would with an array. If you wish to extract the keys or values and use them as an array, you can just create a list:"
   ]
  },
  {
   "cell_type": "code",
   "execution_count": 28,
   "id": "070f6a33",
   "metadata": {},
   "outputs": [
    {
     "data": {
      "text/plain": [
       "['value', 'new_value']"
      ]
     },
     "execution_count": 28,
     "metadata": {},
     "output_type": "execute_result"
    }
   ],
   "source": [
    "list(my_dict.values())"
   ]
  },
  {
   "cell_type": "markdown",
   "id": "b20fdb3e",
   "metadata": {},
   "source": [
    "### Checking if values exist in a dict\n",
    "\n",
    "Use the keyword logical `in` to search a dictionary to see if something is in it! Dictionary lookups are $O(1)$ operations, and it's super useful."
   ]
  },
  {
   "cell_type": "code",
   "execution_count": 30,
   "id": "ce7f9faa",
   "metadata": {},
   "outputs": [
    {
     "data": {
      "text/plain": [
       "True"
      ]
     },
     "execution_count": 30,
     "metadata": {},
     "output_type": "execute_result"
    }
   ],
   "source": [
    "'new_key' in my_dict"
   ]
  },
  {
   "cell_type": "markdown",
   "id": "c582073e",
   "metadata": {},
   "source": [
    "## Loops \n",
    "\n",
    "Loops are a fundamental computer science structure. Much of your ability to code well will depend on how well and efficiently you can use loops. There are primarily two types:\n",
    "\n",
    "- `for` loops - loop through a sequence of commands for a specified number of times\n",
    "- `while` loops - loops through a sequence of commands while a specified condition is true\n",
    "\n",
    "### for loops\n",
    "\n",
    "`for` loops are always called with the following syntax, again using block indent notation\n",
    "\n",
    "`for <index> in <elements>:\n",
    "    <commands>`\n",
    "    \n",
    "A for loop will continue on through a specified set of elements from start to finish. It uses the same block indentation as conditional statements. As an example, let's show how to loop through an array:"
   ]
  },
  {
   "cell_type": "code",
   "execution_count": 39,
   "id": "0f69d864",
   "metadata": {},
   "outputs": [
    {
     "name": "stdout",
     "output_type": "stream",
     "text": [
      "3\n",
      "6\n",
      "9\n",
      "11\n",
      "15\n"
     ]
    }
   ],
   "source": [
    "my_array = [3, 6, 9, 11, 15]\n",
    "\n",
    "for i in my_array:\n",
    "    print(i)"
   ]
  },
  {
   "cell_type": "markdown",
   "id": "f93e6a62",
   "metadata": {},
   "source": [
    "In this case, the for loop loops through each element of the array and prints them. If we wanted to keep a running sum, use the `+=` operator:"
   ]
  },
  {
   "cell_type": "code",
   "execution_count": 40,
   "id": "592459a1",
   "metadata": {},
   "outputs": [
    {
     "data": {
      "text/plain": [
       "44"
      ]
     },
     "execution_count": 40,
     "metadata": {},
     "output_type": "execute_result"
    }
   ],
   "source": [
    "my_sum = 0\n",
    "for i in my_array:\n",
    "    my_sum += i\n",
    "    \n",
    "my_sum"
   ]
  },
  {
   "cell_type": "markdown",
   "id": "80043a94",
   "metadata": {},
   "source": [
    "Notice we looped through each individual element of the array. If we wanted to loop through the indicies of the array, we should use the `range()` function. \n",
    "\n",
    "- `range(<start>, <stop>)` - creates a sequence of numbers between `start` and `stop`. If not specified, `start` defaults to 0.\n",
    "\n",
    "Note that using `range(len(<array>))` will provide a construct to loop through all the indicies of the array. We can re-create the first loop on the indicies of the array as"
   ]
  },
  {
   "cell_type": "code",
   "execution_count": 41,
   "id": "35149ce7",
   "metadata": {},
   "outputs": [
    {
     "name": "stdout",
     "output_type": "stream",
     "text": [
      "3\n",
      "6\n",
      "9\n",
      "11\n",
      "15\n"
     ]
    }
   ],
   "source": [
    "for i in range(len(my_array)):\n",
    "    print(my_array[i])"
   ]
  },
  {
   "cell_type": "markdown",
   "id": "7d58c2aa",
   "metadata": {},
   "source": [
    "## While loops\n",
    "\n",
    "While loops continue looping through an array while a condition is true. The syntax is:\n",
    "\n",
    "`while (<condition>):\n",
    "    <commands>`\n",
    "    \n",
    "For instance, if we wanted to loop through the array only up to the 3rd position:"
   ]
  },
  {
   "cell_type": "code",
   "execution_count": 43,
   "id": "ef21fb5e",
   "metadata": {},
   "outputs": [
    {
     "name": "stdout",
     "output_type": "stream",
     "text": [
      "3\n",
      "6\n",
      "9\n"
     ]
    }
   ],
   "source": [
    "i = 0\n",
    "while (i < 3):\n",
    "    print(my_array[i])\n",
    "    i+=1"
   ]
  },
  {
   "cell_type": "markdown",
   "id": "bc40f954",
   "metadata": {},
   "source": [
    "## Special loop commands\n",
    "\n",
    "Sometimes we want loops to behave certain ways when conditions are outside the norm. Here are two special commands that are useful when dealing with these cases:\n",
    "\n",
    "- `break` - break forces the loop to stop before the loop can naturally exit. This is useful if you find a result while iterating and wish to stop in order to save compute time.\n",
    "- `continue` - continue will ignore any further commands inside the loop and restart the loop from the beginning."
   ]
  },
  {
   "cell_type": "code",
   "execution_count": 2,
   "id": "f07f6473",
   "metadata": {},
   "outputs": [
    {
     "name": "stdout",
     "output_type": "stream",
     "text": [
      "1\n",
      "2\n",
      "3\n",
      "4\n"
     ]
    }
   ],
   "source": [
    "#break will stop the loop at a specified point\n",
    "count = 0\n",
    "arr = [1, 2, 3, 4, 5, 6, 7]\n",
    "for i in arr:\n",
    "    \n",
    "    if count>3:\n",
    "        break\n",
    "    \n",
    "    print(i)\n",
    "    count += 1"
   ]
  },
  {
   "cell_type": "code",
   "execution_count": 4,
   "id": "574a8eb7",
   "metadata": {},
   "outputs": [
    {
     "name": "stdout",
     "output_type": "stream",
     "text": [
      "1\n",
      "2\n",
      "3\n",
      "5\n",
      "6\n",
      "7\n"
     ]
    }
   ],
   "source": [
    "#continue lets you skip certain values in loops\n",
    "arr = [1, 2, 3, 4, 5, 6, 7]\n",
    "for i in arr:\n",
    "    \n",
    "    if i == 4:\n",
    "        continue\n",
    "        \n",
    "    print(i)"
   ]
  },
  {
   "cell_type": "markdown",
   "id": "22e7e32d",
   "metadata": {},
   "source": [
    "## Functions\n",
    "\n",
    "Functions are machines. They take input (called arguments) and (if desired) return output. You can design a function to do just about anything. Even design its own functions! They are meant to be used to do repetitive complex operations.\n",
    "\n",
    "Function syntax in python is as follows\n",
    "\n",
    "```\n",
    "def <function_name>(<arguments>):\n",
    "    <code>\n",
    "    \n",
    "    (optional) return <item>\n",
    "```\n",
    "    \n",
    "Let's design a basic function with no arguments:\n",
    "    "
   ]
  },
  {
   "cell_type": "code",
   "execution_count": 17,
   "id": "bebf1d94",
   "metadata": {},
   "outputs": [],
   "source": [
    "def myfunction():\n",
    "    print('Hello world!')"
   ]
  },
  {
   "cell_type": "code",
   "execution_count": 18,
   "id": "bebdb435",
   "metadata": {},
   "outputs": [
    {
     "name": "stdout",
     "output_type": "stream",
     "text": [
      "Hello world!\n"
     ]
    }
   ],
   "source": [
    "myfunction()"
   ]
  },
  {
   "cell_type": "markdown",
   "id": "a2914456",
   "metadata": {},
   "source": [
    "### Arguments\n",
    "\n",
    "Functions can take inputs and use them in some way. \n",
    "\n",
    "Let's design a function to calculate the sum two numbers: This function takes two arguments and returns the sum of those numbers. NOTE: if your function expects two arguments then two must be given."
   ]
  },
  {
   "cell_type": "code",
   "execution_count": 19,
   "id": "9a364b6d",
   "metadata": {},
   "outputs": [],
   "source": [
    "def calculate_sum(x, y):\n",
    "    res = x + y\n",
    "    return res"
   ]
  },
  {
   "cell_type": "code",
   "execution_count": 20,
   "id": "f7b9ebf3",
   "metadata": {},
   "outputs": [
    {
     "data": {
      "text/plain": [
       "4"
      ]
     },
     "execution_count": 20,
     "metadata": {},
     "output_type": "execute_result"
    }
   ],
   "source": [
    "x = 2\n",
    "y = 2\n",
    "\n",
    "calculate_sum(x, y)"
   ]
  },
  {
   "cell_type": "markdown",
   "id": "b424352b",
   "metadata": {},
   "source": [
    "Notice I can reuse functions easily. Let's give it some different input:"
   ]
  },
  {
   "cell_type": "code",
   "execution_count": 7,
   "id": "48168d7b",
   "metadata": {},
   "outputs": [
    {
     "data": {
      "text/plain": [
       "33"
      ]
     },
     "execution_count": 7,
     "metadata": {},
     "output_type": "execute_result"
    }
   ],
   "source": [
    "t = 23\n",
    "u = 10\n",
    "\n",
    "calculate_sum(t, u)"
   ]
  },
  {
   "cell_type": "markdown",
   "id": "c22544fc",
   "metadata": {},
   "source": [
    "### Default arguments\n",
    "\n",
    "In case you want to default an argument (in case you don't wish to feed it into the function), you can specify the default with an assignment in the function definition. If you do specify a value, the default value will be over-ridden.\n",
    "\n",
    "NOTE: your default arguments must be specified after non-default arguments"
   ]
  },
  {
   "cell_type": "code",
   "execution_count": 21,
   "id": "671f3292",
   "metadata": {},
   "outputs": [],
   "source": [
    "def sum_with_default(x, y=5):\n",
    "    \n",
    "    res = x + y\n",
    "    return res"
   ]
  },
  {
   "cell_type": "code",
   "execution_count": 23,
   "id": "4d3fdb3f",
   "metadata": {},
   "outputs": [
    {
     "data": {
      "text/plain": [
       "8"
      ]
     },
     "execution_count": 23,
     "metadata": {},
     "output_type": "execute_result"
    }
   ],
   "source": [
    "sum_with_default(3)"
   ]
  },
  {
   "cell_type": "code",
   "execution_count": 24,
   "id": "b8ca0511",
   "metadata": {},
   "outputs": [
    {
     "data": {
      "text/plain": [
       "5"
      ]
     },
     "execution_count": 24,
     "metadata": {},
     "output_type": "execute_result"
    }
   ],
   "source": [
    "sum_with_default(3, 2)"
   ]
  },
  {
   "cell_type": "markdown",
   "id": "f2dba2a7",
   "metadata": {},
   "source": [
    "### Unknown number of arguments\n",
    "\n",
    "If you don't know how many arguments you might get, you can use `*args` to denote an unknown number of arguments:\n",
    "\n",
    "Arguments passed in this way are passed as a tuple - a data structure similar to arrays, but usually you cannot add or subtract elements to them. If you wish to access the elements in a tuple, you can do so just as you would with an array\n",
    "\n",
    "Here we use two new techniques. The function `enumerate()` is a useful one that returns the index and value of the array, and the operator `+` when used on strings functions as a concatenator. `+=` keeps a running concatenation, just like a running sum."
   ]
  },
  {
   "cell_type": "code",
   "execution_count": 86,
   "id": "840044a0",
   "metadata": {},
   "outputs": [],
   "source": [
    "def my_kids(*kids):\n",
    "    \n",
    "    if len(kids)==1:\n",
    "        print(f\"My kid's name is {kids[0]}\")\n",
    "    \n",
    "    else:\n",
    "        tmp_string = \"\"\n",
    "\n",
    "        for i, name in enumerate(kids):\n",
    "            if i == len(kids)-2:\n",
    "                tmp_string += name + ' and '\n",
    "\n",
    "            elif i == len(kids)-1:\n",
    "                tmp_string += name\n",
    "\n",
    "            else:\n",
    "                tmp_string += name + ', '\n",
    "\n",
    "        print(f\"My kids' names are {tmp_string}\")"
   ]
  },
  {
   "cell_type": "code",
   "execution_count": 93,
   "id": "8cc2d8ca",
   "metadata": {},
   "outputs": [
    {
     "name": "stdout",
     "output_type": "stream",
     "text": [
      "My kids' names are Benjy, Quentin, Jason and Caddy\n"
     ]
    }
   ],
   "source": [
    "my_kids(\"Benjy\", \"Quentin\", \"Jason\", \"Caddy\")"
   ]
  },
  {
   "cell_type": "markdown",
   "id": "e0659bbd",
   "metadata": {},
   "source": [
    "# My first algorithm\n",
    "\n",
    "Algorithms use repetitive patterns to solve coding problems. Knowledge of algorithms is essential to writing good code, but they do take a lot of practice and creativity to employ. Here we'll learn about how to iterate through arrays efficiently.\n",
    "\n",
    "## The two-sum problem\n",
    "\n",
    "Suppose I am given an array of integers and a target value. I wish to return the indicies of the two numbers that add up to the target number. \n",
    "\n",
    "Assume we are guaranteed a unique solution. You may not use any number twice.\n",
    "\n",
    "Example: \n",
    "\n",
    "Input: `nums = [2,7,11,15]`, target = 9\n",
    "\n",
    "Output: `[0,1]`\n",
    "\n",
    "Explanation: Because `nums[0] + nums[1] == 9`, we return `[0, 1]`.\n",
    "\n",
    "### The brute force solution\n",
    "\n",
    "In problems like these, there is almost always a brute force solution that can be arrived at with for loops. In this case, we can use two loops. One loop that goes through the array and selects each value, then another loop that continues on and checks each element after that in the array, and exits with the correct indicies. \n",
    "\n",
    "NOTE: A return statement inside a loop will automatically break the loop because the function stops to return the value. Here we put a return statement inside a conditional such that if it finds the sum it's looking for, the loop stops and returns the correct result. If it exits the loop without returning a result, we default to the second return statement which just tells us no sum was found."
   ]
  },
  {
   "cell_type": "code",
   "execution_count": 78,
   "id": "fb3dc758",
   "metadata": {},
   "outputs": [],
   "source": [
    "def two_sum(nums, target):\n",
    "    count = 0\n",
    "    for i in range(len(nums)):\n",
    "        for j in range(i+1, len(nums)):\n",
    "            \n",
    "            count+=1\n",
    "            \n",
    "            if nums[i]+nums[j] == target:\n",
    "                result = [i, j]\n",
    "                print(f'number of iterations: {count}')\n",
    "                return result\n",
    "    \n",
    "    print(f'number of iterations: {count}')\n",
    "    return \"No sum found\""
   ]
  },
  {
   "cell_type": "code",
   "execution_count": 79,
   "id": "52e1a4e3",
   "metadata": {},
   "outputs": [
    {
     "name": "stdout",
     "output_type": "stream",
     "text": [
      "number of iterations: 12\n"
     ]
    },
    {
     "data": {
      "text/plain": [
       "[2, 5]"
      ]
     },
     "execution_count": 79,
     "metadata": {},
     "output_type": "execute_result"
    }
   ],
   "source": [
    "arr = [18,12,5,3,2,4]\n",
    "target = 9\n",
    "\n",
    "two_sum(arr, target)"
   ]
  },
  {
   "cell_type": "code",
   "execution_count": 80,
   "id": "e2238183",
   "metadata": {},
   "outputs": [
    {
     "name": "stdout",
     "output_type": "stream",
     "text": [
      "number of iterations: 15\n"
     ]
    },
    {
     "data": {
      "text/plain": [
       "'No sum found'"
      ]
     },
     "execution_count": 80,
     "metadata": {},
     "output_type": "execute_result"
    }
   ],
   "source": [
    "arr = [18,12,5,3,2,4]\n",
    "target = 50\n",
    "\n",
    "two_sum(arr, target)"
   ]
  },
  {
   "cell_type": "markdown",
   "id": "eb0eb05e",
   "metadata": {},
   "source": [
    "### Why brute force solutions are bad\n",
    "\n",
    "In this case, the brute force solution is perfectly able to come up with the correct response. However notice that it requires a long time to iterate through the array. Because it checks every possible pair of numbers in the array, it has to do a maximum of $(n^2-n)/2$ passes through the loop in order to finish. Notice that as $n$ grows large, this number will increase quadratically, in order of $n^2$, so we can say this operation is in $O(n^2)$ time.\n",
    "\n",
    "Algorithms that operate in $O(n^2)$ time are terribly inefficient, and waste compute time and memory. As your data increases in size, your runtime increases quadratically, so by the time you reach 100 elements in the array, you're doing almost 5,000 iterations! It would be nice if we could come up with an algorithm that runs faster.\n",
    "\n",
    "### A hashmap solution\n",
    "\n",
    "Fortunately this is a really good example of where dictionaries come in handy. Notice that we are given the target already. Instead of searching through the array for two numbers that add up to the target, notice we can create a dictionary of `target - (array_value)`. So instead of looking for two values, we really only need to look for one.\n",
    "\n",
    "Remember lookup in a hashmap is $O(1)$, so its much faster to use one rather than brute forcing your way through the array $n^2$ times. \n",
    "\n",
    "This solution iterates through the array only once, and insertions and lookups in the dictionary are $O(1)$ so it runs in $O(n)$ time."
   ]
  },
  {
   "cell_type": "code",
   "execution_count": 81,
   "id": "c9b84f3d",
   "metadata": {},
   "outputs": [],
   "source": [
    "def efficient_two_sum(nums, target):\n",
    "\n",
    "    my_dict = {}\n",
    "    count = 0\n",
    "    \n",
    "    for i in range(len(nums)):\n",
    "        count += 1\n",
    "        val = target-nums[i]\n",
    "        if val in my_dict.keys():\n",
    "            result = [i, my_dict[val]]\n",
    "            print(f'number of iterations: {count}')\n",
    "            return result\n",
    "\n",
    "        else:\n",
    "            my_dict[nums[i]] = i\n",
    "            \n",
    "    print(f'number of iterations: {count}')\n",
    "    return \"No sum found\""
   ]
  },
  {
   "cell_type": "code",
   "execution_count": 82,
   "id": "993120ce",
   "metadata": {},
   "outputs": [
    {
     "name": "stdout",
     "output_type": "stream",
     "text": [
      "number of iterations: 6\n"
     ]
    },
    {
     "data": {
      "text/plain": [
       "[5, 2]"
      ]
     },
     "execution_count": 82,
     "metadata": {},
     "output_type": "execute_result"
    }
   ],
   "source": [
    "arr = [18,12,5,3,2,4]\n",
    "target = 9\n",
    "\n",
    "efficient_two_sum(arr, target)"
   ]
  },
  {
   "cell_type": "markdown",
   "id": "cc1c0c0b",
   "metadata": {},
   "source": [
    "## Problems\n",
    "\n",
    "1. Create an array of integers at least 8 elements long. Print the numbers in the 1st, 3rd, and 5th positions in the array."
   ]
  },
  {
   "cell_type": "code",
   "execution_count": 1,
   "id": "1577ffc3",
   "metadata": {},
   "outputs": [],
   "source": [
    "#create array\n",
    "arr = "
   ]
  },
  {
   "cell_type": "markdown",
   "id": "b9c6709b",
   "metadata": {},
   "source": [
    "2. Find the length of the array you created in problem 1"
   ]
  },
  {
   "cell_type": "code",
   "execution_count": null,
   "id": "6c57b271",
   "metadata": {},
   "outputs": [],
   "source": []
  },
  {
   "cell_type": "markdown",
   "id": "d655276a",
   "metadata": {},
   "source": [
    "3. Insert a new integer at position 2 in your array"
   ]
  },
  {
   "cell_type": "code",
   "execution_count": null,
   "id": "2f54f694",
   "metadata": {},
   "outputs": [],
   "source": []
  },
  {
   "cell_type": "markdown",
   "id": "bdfcc3ab",
   "metadata": {},
   "source": [
    "4. Append a new integer to the end of your array"
   ]
  },
  {
   "cell_type": "code",
   "execution_count": null,
   "id": "6962af69",
   "metadata": {},
   "outputs": [],
   "source": []
  },
  {
   "cell_type": "markdown",
   "id": "e8fdec56",
   "metadata": {},
   "source": [
    "5. Sort the array (use python's built in sorting for this. If you all want we can explore efficient sorting algorithms later on in the course)"
   ]
  },
  {
   "cell_type": "code",
   "execution_count": null,
   "id": "11d6a2dc",
   "metadata": {},
   "outputs": [],
   "source": []
  },
  {
   "cell_type": "markdown",
   "id": "bff5240a",
   "metadata": {},
   "source": [
    "6. Pop the last element of the array"
   ]
  },
  {
   "cell_type": "code",
   "execution_count": null,
   "id": "f5449756",
   "metadata": {},
   "outputs": [],
   "source": []
  },
  {
   "cell_type": "markdown",
   "id": "d7deb0fa",
   "metadata": {},
   "source": [
    "7. Find the length of the array now. It should be one longer than it was in problem 2. "
   ]
  },
  {
   "cell_type": "code",
   "execution_count": null,
   "id": "0259140d",
   "metadata": {},
   "outputs": [],
   "source": []
  },
  {
   "cell_type": "markdown",
   "id": "1388c557",
   "metadata": {},
   "source": [
    "8. Add the array `arr2 = [5, 6, 7]` to the end of your array (hint: use `.extend()` or use python's ability to concatenate arrays with `+` or `+=`)"
   ]
  },
  {
   "cell_type": "code",
   "execution_count": null,
   "id": "c4d6d688",
   "metadata": {},
   "outputs": [],
   "source": []
  },
  {
   "cell_type": "markdown",
   "id": "3625049b",
   "metadata": {},
   "source": [
    "For problems 9-11, use the definition of dict1 by running the following cell:"
   ]
  },
  {
   "cell_type": "code",
   "execution_count": 9,
   "id": "13fe32ba",
   "metadata": {},
   "outputs": [],
   "source": [
    "dict1 = {\n",
    "    'element1' : 'Hi',\n",
    "    'element2' : 'my',\n",
    "    'element3' : 'name',\n",
    "    'element4' : 'is'\n",
    "}"
   ]
  },
  {
   "cell_type": "markdown",
   "id": "0728e1ad",
   "metadata": {},
   "source": [
    "9. Find the value for `element2` in `dict1`"
   ]
  },
  {
   "cell_type": "code",
   "execution_count": null,
   "id": "3fab4b34",
   "metadata": {},
   "outputs": [],
   "source": []
  },
  {
   "cell_type": "markdown",
   "id": "9e614ec0",
   "metadata": {},
   "source": [
    "10. Insert `element5` into `dict1` which has the value of your name"
   ]
  },
  {
   "cell_type": "code",
   "execution_count": null,
   "id": "97906f38",
   "metadata": {},
   "outputs": [],
   "source": []
  },
  {
   "cell_type": "markdown",
   "id": "ee1f12ac",
   "metadata": {},
   "source": [
    "11. Extract the values of `dict1` and concatenate them into a single string and print the result. Hint: You can do this iteratively with a for loop."
   ]
  },
  {
   "cell_type": "code",
   "execution_count": null,
   "id": "9735669f",
   "metadata": {},
   "outputs": [],
   "source": []
  },
  {
   "cell_type": "markdown",
   "id": "424bcee9",
   "metadata": {},
   "source": [
    "Jane is a bored teenager. One day she decides to count the number of birds she sees in the window every morning when she wakes up. She records them in an array.\n",
    "\n",
    "For problems 12-14 use the following array:"
   ]
  },
  {
   "cell_type": "code",
   "execution_count": null,
   "id": "dd85ba02",
   "metadata": {},
   "outputs": [],
   "source": [
    "arr = [1, 1, 2, 4, 1, 2, 0, 1, 3, 1, 3, 5, 1, 1, 2, 2, 1, 2, 3, 4, 5, 2, 1, 1, 0, 0, 1, 1, 2, 1, 3, 1, 1, 5, 2, 2, 1, 0, 1]"
   ]
  },
  {
   "cell_type": "markdown",
   "id": "0e68fb6c",
   "metadata": {},
   "source": [
    "12. What's the maximum number of birds she ever sees on any morning?"
   ]
  },
  {
   "cell_type": "code",
   "execution_count": null,
   "id": "6bb56bd7",
   "metadata": {},
   "outputs": [],
   "source": []
  },
  {
   "cell_type": "markdown",
   "id": "bf84b689",
   "metadata": {},
   "source": [
    "13. The next morning, Jane sees 4 birds. Create a new entry in the array of value 4"
   ]
  },
  {
   "cell_type": "code",
   "execution_count": null,
   "id": "73caa3fc",
   "metadata": {},
   "outputs": [],
   "source": []
  },
  {
   "cell_type": "markdown",
   "id": "28f4bb30",
   "metadata": {},
   "source": [
    "14. Jane decides that she wants to know how many times she's counted 1, 2, 3, etc, birds in her window. Use a for loop to create a dictionary that counts the number of occurrences of each number she sees in the window each day."
   ]
  },
  {
   "cell_type": "code",
   "execution_count": null,
   "id": "5ab9ec7d",
   "metadata": {},
   "outputs": [],
   "source": []
  },
  {
   "cell_type": "markdown",
   "id": "b9663346",
   "metadata": {},
   "source": [
    "15. Write a function that replicates 14 for any array and returns the dictionary, and test it with your own array"
   ]
  },
  {
   "cell_type": "code",
   "execution_count": null,
   "id": "f6cfdf92",
   "metadata": {},
   "outputs": [],
   "source": []
  },
  {
   "cell_type": "markdown",
   "id": "d807c736",
   "metadata": {},
   "source": [
    "16. Write a function that determines whether a given string is a palindrome and returns True if it is, and False if not.\n",
    "\n",
    "You may assume all input will be in lower-case, but you can always force a string to lower case by using `.lower()`\n",
    "\n",
    "Example:\n",
    "\n",
    "Input: `s = \"racecar\"`\n",
    "Output: `True`\n",
    "\n",
    "Example2: `s = race a car`\n",
    "Output: `False`\n",
    "\n",
    "Hint: Strings are actually arrays of characters in python..."
   ]
  },
  {
   "cell_type": "code",
   "execution_count": null,
   "id": "12ef9e0f",
   "metadata": {},
   "outputs": [],
   "source": [
    "def palindrome(s):\n",
    "    "
   ]
  },
  {
   "cell_type": "markdown",
   "id": "777984b5",
   "metadata": {},
   "source": [
    "17. Now solve it without using any additional memory. "
   ]
  },
  {
   "cell_type": "code",
   "execution_count": null,
   "id": "e8da9198",
   "metadata": {},
   "outputs": [],
   "source": []
  }
 ],
 "metadata": {
  "kernelspec": {
   "display_name": "Python 3 (ipykernel)",
   "language": "python",
   "name": "python3"
  },
  "language_info": {
   "codemirror_mode": {
    "name": "ipython",
    "version": 3
   },
   "file_extension": ".py",
   "mimetype": "text/x-python",
   "name": "python",
   "nbconvert_exporter": "python",
   "pygments_lexer": "ipython3",
   "version": "3.9.7"
  }
 },
 "nbformat": 4,
 "nbformat_minor": 5
}
