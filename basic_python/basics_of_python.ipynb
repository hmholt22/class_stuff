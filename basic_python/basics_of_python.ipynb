{
 "cells": [
  {
   "cell_type": "markdown",
   "id": "2471ab73",
   "metadata": {},
   "source": [
    "# A brief introduction to Python\n",
    "\n",
    "Hello! in this tutorial, you'll learn some basic Python functionality. We'll mainly learn by doing around here, so if you feel like you don't know something yet, no worries. We'll get there!\n",
    "\n",
    "Here we're using jupyter notebooks as our first tool. If you'd prefer an IDE, PyCharm is recommended. Jupyter Notebooks use what's called \"markdown\" code. Instead of running line-by-line, Jupyter Notebooks run code chunk-by-chunk. That is whenever you select a cell and hit \"run\" you're only running that cell! It does store the data as long as the notebook is active, so you can continue working on things cell-by-cell. It's a really good way of testing code and getting used to coding in small chunks before you start writing much larger programs.\n",
    "\n",
    "## Code chunks and kernels\n",
    "\n",
    "Python keeps memory of any data and operations you've run in the notebook via a kernel. When you start the notebook, your kernel will automatically start and you can begin coding. A kernel is basically another programming language that lives inside Python and has control over everything - keeping memory, allocating new memory, running operations, managing output, etc. \n",
    "\n",
    "When you want the kernel to run a certain cell, you can highlight the cell you want and hit the \"play\" button you see above where it says \"Run\". This will run the current cell and then move to the next one, but it will wait to run that one until you tell it to. The keyboard shortcut for this is ctrl+enter if you want to run the cell alone, and shift+enter if you want to run the cell and move to the following cell. Try it below!\n",
    "\n",
    "Sometimes your kernel will run into problems and take a long time to compute something. If you ever want to stop your kernel in the midst of a long computation, use the stop symbol. If you wish to restart your kernel, use the circular arrow button. And finally, if you want to reset the kernel and run every cell in the notebook - hit the fast-forward button. You can also see buttons to cut, copy and paste cells, move them up or down in order, add new blank cells and save your notebook.\n",
    "\n",
    "## Python\n",
    "\n",
    "Python is an object-oriented programming language. This means it bascially functions by creating things called \"objects\" which the programmer can design and attach attributes and methods to in order to apply to certain problems. We'll go over how to create objects later in the course. For the already-initiated, Python a very similar language to C++ or Java, though some of the syntax is different (And it's also much slower!). We use Python however because of its enormous flexibility in handling data, ease of scripting, and the active development community producing new packages to deal with common problems, which we don't have with other coding languages. \n",
    "\n",
    "## Functions\n",
    "For now we only need to know at a very high level what functions are. Functions simply take input and transform it in a certain way to produce output. There are several built-in functions that Python already has. One such function is the `print()` function. The input(s) for a function are called \"arguments\" and they are put inside the parentheses of the function. If the function is designed to produce visual output, it will be displayed in the output window or in your terminal if you use a command line interface. You will know if you're calling a base python function because it will always show up colored green.\n",
    "\n",
    "## My first Python program\n",
    "\n",
    "All coders learn the same program to begin their careers, called the \"Hello world!\" program. Here we simply want to print the phrase \"Hello world!\" and display it as output. In this case, we can simply print the phrase \"Hello world!\""
   ]
  },
  {
   "cell_type": "code",
   "execution_count": 1,
   "id": "3eca4aa7",
   "metadata": {},
   "outputs": [
    {
     "name": "stdout",
     "output_type": "stream",
     "text": [
      "Hello world!\n"
     ]
    }
   ],
   "source": [
    "print(\"Hello world!\")"
   ]
  },
  {
   "cell_type": "markdown",
   "id": "9a50c900",
   "metadata": {},
   "source": [
    "As you can see this function takes a single argument - the string \"Hello world!\" - and produces a single line of output. \n",
    "\n",
    "But there's one intersting thing! Notice we had to wrap the phrase in double quotes (\"). This tells python that it is a `string` data type. So let's cover those next"
   ]
  },
  {
   "cell_type": "markdown",
   "id": "46e7760c",
   "metadata": {},
   "source": [
    "## Data types \n",
    "\n",
    "Python, like all programming languages, uses data types to refer to certain objects it may encounter. It is important to get these data types correct because you can do certain operations with some data types that won't work with others. Some basic data types are:\n",
    "\n",
    "- `string` - This is text data and will allow for numbers and special characters. Strings are declared with the use of single (') or double (\") quotes. \n",
    "- `int` - integer data\n",
    "- `float` - floating point data (i.e. numbers with decimals)\n",
    "- `bool` - a special data type which can only take on the values true or false\n",
    "\n",
    "There are more and more complicated data types, but we'll get to those as we go on in the course.\n",
    "\n",
    "## Variables and assignment\n",
    "\n",
    "As you might have guessed, it's really inefficient to just carry around values of objects in our code all the time, so we frequently want to assign values to variables, so we can just call those instead of the actual content. \n",
    "\n",
    "Declaring variables is done with the assignment operator `=`. Notice that \"equals\" is not a logical statement like in mathematics. It is a way to tell Python that a variable needs to take on a specific value. \n",
    "\n",
    "For instance. Suppose I wanted to store the string \"Hello world!\" to a variable `x` so I don't have to type out \"Hello world!\" all the time. That is done with the assignment operator like so:"
   ]
  },
  {
   "cell_type": "code",
   "execution_count": 2,
   "id": "3d7923c3",
   "metadata": {},
   "outputs": [],
   "source": [
    "x = \"Hello world!\""
   ]
  },
  {
   "cell_type": "markdown",
   "id": "7bb3b58b",
   "metadata": {},
   "source": [
    "Notice that the cell does not print anything out here. Typically, if all you're doing is assigning a value to a variable, Python will not print anything. If you wish to see the value of a variable, just simply call the variable on its own and Python will print what it sees in human-readable format"
   ]
  },
  {
   "cell_type": "code",
   "execution_count": 3,
   "id": "c96e6b6e",
   "metadata": {},
   "outputs": [
    {
     "data": {
      "text/plain": [
       "'Hello world!'"
      ]
     },
     "execution_count": 3,
     "metadata": {},
     "output_type": "execute_result"
    }
   ],
   "source": [
    "x"
   ]
  },
  {
   "cell_type": "markdown",
   "id": "08b02e14",
   "metadata": {},
   "source": [
    "Now notice we can greatly simplify our first program. "
   ]
  },
  {
   "cell_type": "code",
   "execution_count": 4,
   "id": "5cb4c074",
   "metadata": {},
   "outputs": [
    {
     "name": "stdout",
     "output_type": "stream",
     "text": [
      "Hello world!\n"
     ]
    }
   ],
   "source": [
    "print(x)"
   ]
  },
  {
   "cell_type": "markdown",
   "id": "be242664",
   "metadata": {},
   "source": [
    "We can print other datatypes too."
   ]
  },
  {
   "cell_type": "code",
   "execution_count": 65,
   "id": "c6c2eb92",
   "metadata": {},
   "outputs": [
    {
     "name": "stdout",
     "output_type": "stream",
     "text": [
      "4\n",
      "3.22\n",
      "True\n"
     ]
    }
   ],
   "source": [
    "y = 4\n",
    "fp = 3.22\n",
    "i_am_a_bool = True\n",
    "\n",
    "print(y)\n",
    "print(fp)\n",
    "print(i_am_a_bool)"
   ]
  },
  {
   "cell_type": "markdown",
   "id": "4ab89c5a",
   "metadata": {},
   "source": [
    "If you ever forget what data type a variable is and you want to know, use the `type()` function"
   ]
  },
  {
   "cell_type": "code",
   "execution_count": 66,
   "id": "58e50b30",
   "metadata": {},
   "outputs": [
    {
     "data": {
      "text/plain": [
       "bool"
      ]
     },
     "execution_count": 66,
     "metadata": {},
     "output_type": "execute_result"
    }
   ],
   "source": [
    "type(i_am_a_bool)"
   ]
  },
  {
   "cell_type": "markdown",
   "id": "f5c93962",
   "metadata": {},
   "source": [
    "Unlike other programming languages, you do not have to declare variables before you initialize them. Python automatically declares the variable at the moment you initialize and detects the data type so you do not have to be explicit. But you can if you want to - just used the reserved functions `int()`, `str()`, `float()` and `bool()` to do so.\n",
    "\n",
    "Finally, it is sometimes possible to convert data from one type to another. For example I can create a variable that takes on the value of the number \"3\" as a string. But I might want this to be a number instead. I can use the declaration functions listed above to do so."
   ]
  },
  {
   "cell_type": "code",
   "execution_count": 67,
   "id": "c3675ffd",
   "metadata": {},
   "outputs": [
    {
     "name": "stdout",
     "output_type": "stream",
     "text": [
      "The data type of x is: <class 'str'>\n",
      "But now the data type of x is: <class 'int'>\n"
     ]
    }
   ],
   "source": [
    "x = \"4\"\n",
    "print(f'The data type of x is: {type(x)}')\n",
    "\n",
    "x = int(x)\n",
    "print(f'But now the data type of x is: {type(x)}')"
   ]
  },
  {
   "cell_type": "markdown",
   "id": "6f1413c1",
   "metadata": {},
   "source": [
    "But be careful with this. If I wanted to convert a `float` to an `int`, for example, it might produce unintended consequences for your calculations... In this case it will simply drop the decimal and force it to an integer value."
   ]
  },
  {
   "cell_type": "code",
   "execution_count": 68,
   "id": "dabcbf6c",
   "metadata": {},
   "outputs": [
    {
     "data": {
      "text/plain": [
       "3"
      ]
     },
     "execution_count": 68,
     "metadata": {},
     "output_type": "execute_result"
    }
   ],
   "source": [
    "x = 3.22\n",
    "int(x)"
   ]
  },
  {
   "cell_type": "markdown",
   "id": "b24e7706",
   "metadata": {},
   "source": [
    "### A note about variables and reserved words\n",
    "\n",
    "Python - like all programming languages - has something called \"reserved words\". These are special, standardized commands that are hard coded into python and always have the same meaning. You will know if a word is reserved because it will show up in bold green. A few of these are the logical operators `and`, `or`, `assert` and loop operators like `for`, `break` or `continue`. These words are not available to serve as variables, so you can't use them. For instance if I tried to store the value 4 to the variable `for`, I get a syntax error:"
   ]
  },
  {
   "cell_type": "code",
   "execution_count": 69,
   "id": "75475fe0",
   "metadata": {},
   "outputs": [
    {
     "ename": "SyntaxError",
     "evalue": "invalid syntax (Temp/ipykernel_10080/2046953698.py, line 1)",
     "output_type": "error",
     "traceback": [
      "\u001b[1;36m  File \u001b[1;32m\"C:\\Users\\HARLAN~1\\AppData\\Local\\Temp/ipykernel_10080/2046953698.py\"\u001b[1;36m, line \u001b[1;32m1\u001b[0m\n\u001b[1;33m    for = 4\u001b[0m\n\u001b[1;37m        ^\u001b[0m\n\u001b[1;31mSyntaxError\u001b[0m\u001b[1;31m:\u001b[0m invalid syntax\n"
     ]
    }
   ],
   "source": [
    "for = 4"
   ]
  },
  {
   "cell_type": "markdown",
   "id": "425bfb18",
   "metadata": {},
   "source": [
    "## Basic calculations\n",
    "\n",
    "Python, like most programming languages, also functions as a calculator. You can always do basic operations. Here are the most common ones:\n",
    "\n",
    "- `+` - Addition\n",
    "- `-` - Subtraction\n",
    "- `*` - Multiplication\n",
    "- `/` - Division\n",
    "- `**` - Exponentiation\n",
    "- `%` - Modulo division (division that reports the remainder of a non-whole number division operation)\n",
    "\n",
    "Be aware there are no built in python functions for more complicated operators like square roots or logarithms. We'll cover how to use those a little later on. "
   ]
  },
  {
   "cell_type": "code",
   "execution_count": 70,
   "id": "9002efc8",
   "metadata": {},
   "outputs": [
    {
     "data": {
      "text/plain": [
       "4"
      ]
     },
     "execution_count": 70,
     "metadata": {},
     "output_type": "execute_result"
    }
   ],
   "source": [
    "2+2"
   ]
  },
  {
   "cell_type": "code",
   "execution_count": 71,
   "id": "cc058923",
   "metadata": {},
   "outputs": [
    {
     "data": {
      "text/plain": [
       "-4"
      ]
     },
     "execution_count": 71,
     "metadata": {},
     "output_type": "execute_result"
    }
   ],
   "source": [
    "4-8"
   ]
  },
  {
   "cell_type": "code",
   "execution_count": 72,
   "id": "197dea92",
   "metadata": {},
   "outputs": [
    {
     "data": {
      "text/plain": [
       "2.5"
      ]
     },
     "execution_count": 72,
     "metadata": {},
     "output_type": "execute_result"
    }
   ],
   "source": [
    "5/2"
   ]
  },
  {
   "cell_type": "code",
   "execution_count": 73,
   "id": "edaa2008",
   "metadata": {},
   "outputs": [
    {
     "data": {
      "text/plain": [
       "8"
      ]
     },
     "execution_count": 73,
     "metadata": {},
     "output_type": "execute_result"
    }
   ],
   "source": [
    "2**3"
   ]
  },
  {
   "cell_type": "code",
   "execution_count": 74,
   "id": "ff79b7d1",
   "metadata": {},
   "outputs": [
    {
     "data": {
      "text/plain": [
       "1"
      ]
     },
     "execution_count": 74,
     "metadata": {},
     "output_type": "execute_result"
    }
   ],
   "source": [
    "5%2"
   ]
  },
  {
   "cell_type": "markdown",
   "id": "a3910d23",
   "metadata": {},
   "source": [
    "We can also do the same by assigning variable names and operating on those instead:"
   ]
  },
  {
   "cell_type": "code",
   "execution_count": 75,
   "id": "eb9d0905",
   "metadata": {},
   "outputs": [],
   "source": [
    "x = 3\n",
    "y = 5"
   ]
  },
  {
   "cell_type": "code",
   "execution_count": 76,
   "id": "7bc85d4c",
   "metadata": {},
   "outputs": [
    {
     "data": {
      "text/plain": [
       "8"
      ]
     },
     "execution_count": 76,
     "metadata": {},
     "output_type": "execute_result"
    }
   ],
   "source": [
    "x+y"
   ]
  },
  {
   "cell_type": "code",
   "execution_count": 77,
   "id": "ff205a23",
   "metadata": {},
   "outputs": [
    {
     "data": {
      "text/plain": [
       "2"
      ]
     },
     "execution_count": 77,
     "metadata": {},
     "output_type": "execute_result"
    }
   ],
   "source": [
    "y-x"
   ]
  },
  {
   "cell_type": "code",
   "execution_count": 78,
   "id": "6d89468e",
   "metadata": {},
   "outputs": [
    {
     "data": {
      "text/plain": [
       "15"
      ]
     },
     "execution_count": 78,
     "metadata": {},
     "output_type": "execute_result"
    }
   ],
   "source": [
    "x*y"
   ]
  },
  {
   "cell_type": "code",
   "execution_count": 79,
   "id": "803574d8",
   "metadata": {},
   "outputs": [
    {
     "data": {
      "text/plain": [
       "125"
      ]
     },
     "execution_count": 79,
     "metadata": {},
     "output_type": "execute_result"
    }
   ],
   "source": [
    "y**x"
   ]
  },
  {
   "cell_type": "markdown",
   "id": "3c9b6eb2",
   "metadata": {},
   "source": [
    "## Logicals\n",
    "\n",
    "Boolean data types as mentioned are data types that can only take on the values of true or false. In Python, the reserved words representing these values are (case sensitive) `True` and `False`. \n",
    "\n",
    "Logical operators are special operations that focus on evaluating whether a statement is true or false. The basic operators are:\n",
    "\n",
    "- `==` - \"is equal to\"\n",
    "- `!=` - \"not equal to\"\n",
    "- `>` - \"greater than\" (strictly)\n",
    "- `<` - \"less than\" (strictly)\n",
    "- `>=` - greater than or equal to\n",
    "- `<=` - less than or equal to\n",
    "\n",
    "Using one of these operators is essentially asking Python to report whether a statement is true or false. An example could be:"
   ]
  },
  {
   "cell_type": "code",
   "execution_count": 80,
   "id": "dbed14c4",
   "metadata": {},
   "outputs": [
    {
     "data": {
      "text/plain": [
       "True"
      ]
     },
     "execution_count": 80,
     "metadata": {},
     "output_type": "execute_result"
    }
   ],
   "source": [
    "1==1 "
   ]
  },
  {
   "cell_type": "markdown",
   "id": "386a4db3",
   "metadata": {},
   "source": [
    "1 is obviously equal to 1, so Python tells us this is true. But..."
   ]
  },
  {
   "cell_type": "code",
   "execution_count": 81,
   "id": "202d5cc1",
   "metadata": {},
   "outputs": [
    {
     "data": {
      "text/plain": [
       "False"
      ]
     },
     "execution_count": 81,
     "metadata": {},
     "output_type": "execute_result"
    }
   ],
   "source": [
    "1==6"
   ]
  },
  {
   "cell_type": "markdown",
   "id": "c037a98c",
   "metadata": {},
   "source": [
    "1 is not equal to 6, so when we assert that 1 = 6, Python correctly tells us this is False. We can test all sorts of hypotheses like this:"
   ]
  },
  {
   "cell_type": "code",
   "execution_count": 82,
   "id": "584bef30",
   "metadata": {},
   "outputs": [
    {
     "name": "stdout",
     "output_type": "stream",
     "text": [
      "False\n",
      "False\n",
      "True\n"
     ]
    }
   ],
   "source": [
    "print(1 != 1)\n",
    "print(4 > 6)\n",
    "print(7 <= 11)"
   ]
  },
  {
   "cell_type": "markdown",
   "id": "a4c5718c",
   "metadata": {},
   "source": [
    "Notice that if I try to compare two logicals that aren't of the same type, Python throws an error. This is because there's no logical way to compare a word to a number, e.g."
   ]
  },
  {
   "cell_type": "code",
   "execution_count": 83,
   "id": "7a37ec7b",
   "metadata": {},
   "outputs": [
    {
     "ename": "TypeError",
     "evalue": "'>' not supported between instances of 'str' and 'int'",
     "output_type": "error",
     "traceback": [
      "\u001b[1;31m---------------------------------------------------------------------------\u001b[0m",
      "\u001b[1;31mTypeError\u001b[0m                                 Traceback (most recent call last)",
      "\u001b[1;32mC:\\Users\\HARLAN~1\\AppData\\Local\\Temp/ipykernel_10080/246594508.py\u001b[0m in \u001b[0;36m<module>\u001b[1;34m\u001b[0m\n\u001b[1;32m----> 1\u001b[1;33m \u001b[0mprint\u001b[0m\u001b[1;33m(\u001b[0m\u001b[1;34m\"hello\"\u001b[0m \u001b[1;33m>\u001b[0m \u001b[1;36m5\u001b[0m\u001b[1;33m)\u001b[0m\u001b[1;33m\u001b[0m\u001b[1;33m\u001b[0m\u001b[0m\n\u001b[0m",
      "\u001b[1;31mTypeError\u001b[0m: '>' not supported between instances of 'str' and 'int'"
     ]
    }
   ],
   "source": [
    "print(\"hello\" > 5) "
   ]
  },
  {
   "cell_type": "markdown",
   "id": "30b6defd",
   "metadata": {},
   "source": [
    "## Combining logicals\n",
    "\n",
    "We often want to combine two or more logicals to derive conditions from, for instance perhaps we want to draw data from a table within certain dates, or values from an array only between specific indexes. There are special operations designed especially for these types of statements:\n",
    "\n",
    "- `and` - tests whether both logicals are true\n",
    "- `or` - tests whether either of the logicals are true\n",
    "- `not` - negates any boolean expression - equivalent to \"is not\" statements.\n",
    "\n",
    "For example:"
   ]
  },
  {
   "cell_type": "code",
   "execution_count": 84,
   "id": "ed34f922",
   "metadata": {},
   "outputs": [
    {
     "data": {
      "text/plain": [
       "True"
      ]
     },
     "execution_count": 84,
     "metadata": {},
     "output_type": "execute_result"
    }
   ],
   "source": [
    "1==1 and 2==2"
   ]
  },
  {
   "cell_type": "markdown",
   "id": "820ed244",
   "metadata": {},
   "source": [
    "The `and` operator will return true only if both sides of the operator are true. In this case we see that 1==1 evaluates to True, and 2==2 evaluates to True, so the whole statement evaluates to True. On the other hand, "
   ]
  },
  {
   "cell_type": "code",
   "execution_count": 85,
   "id": "c6403975",
   "metadata": {},
   "outputs": [
    {
     "data": {
      "text/plain": [
       "False"
      ]
     },
     "execution_count": 85,
     "metadata": {},
     "output_type": "execute_result"
    }
   ],
   "source": [
    "1==1 and 1==2"
   ]
  },
  {
   "cell_type": "markdown",
   "id": "cb5e8356",
   "metadata": {},
   "source": [
    "In this case only the left side of the argument is still true, while the right side is untrue. So the `and` operator correctly tells us the statement is False. \n",
    "\n",
    "If we only need one side of the argument to be true however, we can use `or`:"
   ]
  },
  {
   "cell_type": "code",
   "execution_count": 86,
   "id": "ff373174",
   "metadata": {},
   "outputs": [
    {
     "data": {
      "text/plain": [
       "True"
      ]
     },
     "execution_count": 86,
     "metadata": {},
     "output_type": "execute_result"
    }
   ],
   "source": [
    "1==1 or 1==2"
   ]
  },
  {
   "cell_type": "markdown",
   "id": "5299b991",
   "metadata": {},
   "source": [
    "In this case, the left hand side is still true, so even though the right hand side is false, we still get a True because at least one of the conditions evaluated to True\n",
    "\n",
    "Finally, we can use the `not` operator to negate any boolean statement:"
   ]
  },
  {
   "cell_type": "code",
   "execution_count": 87,
   "id": "eed6eda4",
   "metadata": {},
   "outputs": [
    {
     "data": {
      "text/plain": [
       "False"
      ]
     },
     "execution_count": 87,
     "metadata": {},
     "output_type": "execute_result"
    }
   ],
   "source": [
    "not 1==1"
   ]
  },
  {
   "cell_type": "code",
   "execution_count": 88,
   "id": "103ac1c1",
   "metadata": {},
   "outputs": [
    {
     "data": {
      "text/plain": [
       "False"
      ]
     },
     "execution_count": 88,
     "metadata": {},
     "output_type": "execute_result"
    }
   ],
   "source": [
    "not(1==1 or 1==2)"
   ]
  },
  {
   "cell_type": "markdown",
   "id": "c9f9bd32",
   "metadata": {},
   "source": [
    "## Conditional statements\n",
    "\n",
    "There are times when coding when we want to tell Python to do certain operations only if certain conditions are true (or false). These are called conditional operations. The most basic conditional operation is the `if` statement:\n",
    "\n",
    "- `if` - proceeds with a step only if a condition is true\n",
    "\n",
    "### Syntax\n",
    "\n",
    "Python has special syntax designed to make visual inspection of code easy. Certain logical statements are organized in indent blocks. You can create an indent block by using the `tab` key. \n",
    "\n",
    "The `if` statement is always syntactically organized as:\n",
    "\n",
    "`if (condition):\n",
    "    <code to run if condition is true>`\n",
    "\n",
    "The colon `:` symbol is always required at the end of an `if` statement. It tells Python that it is about to evaluate an indentation block. (The parentheses around (condition) are optional, but they can help to organize your code better)"
   ]
  },
  {
   "cell_type": "code",
   "execution_count": 89,
   "id": "45f2e20d",
   "metadata": {},
   "outputs": [
    {
     "name": "stdout",
     "output_type": "stream",
     "text": [
      "Hello!\n"
     ]
    }
   ],
   "source": [
    "a = \"Hello!\"\n",
    "\n",
    "if a == \"Hello!\":\n",
    "    print(a)"
   ]
  },
  {
   "cell_type": "markdown",
   "id": "46649dc8",
   "metadata": {},
   "source": [
    "This conditional checks to see whether a is equal to the value \"Hello!\" (which we know because we just assigned it above). Because this is true, Python then follows the conditional step in the indent block which is to print the value of a. \n",
    "\n",
    "If the condition is not true, then Python will simply skip any code in the indent block since the condition is not met."
   ]
  },
  {
   "cell_type": "code",
   "execution_count": 90,
   "id": "f7917cdc",
   "metadata": {},
   "outputs": [],
   "source": [
    "a = \"Goodbye!\"\n",
    "\n",
    "if a == \"Hello!\":\n",
    "    print(a)"
   ]
  },
  {
   "cell_type": "markdown",
   "id": "8ad7937d",
   "metadata": {},
   "source": [
    "It is also possible to compare multiple conditionals in an `if` statement: \n",
    "\n",
    "(again we use parentheses optionally here to organize things better)"
   ]
  },
  {
   "cell_type": "code",
   "execution_count": 91,
   "id": "4e415ae8",
   "metadata": {},
   "outputs": [
    {
     "name": "stdout",
     "output_type": "stream",
     "text": [
      "Goodbye!\n"
     ]
    }
   ],
   "source": [
    "if (a == \"Hello\") or (a == \"Goodbye!\"):\n",
    "    print(a)"
   ]
  },
  {
   "cell_type": "markdown",
   "id": "7783f378",
   "metadata": {},
   "source": [
    "### Else statements\n",
    "\n",
    "`if` statements do not need to be followed by an `else` unless you specifically want Python to do something if the conditional in the `if` fails. Sometimes we don't want Python to do anything if the `if` condition fails. This is called a \"naked if statement\".\n",
    "\n",
    "Like we said, if the condition in the `if` statement fails, then Python will just skip the indent block until it finds the next normal lines of code. However, sometimes we want Python to do something else if the original `if` condition fails. For this reason, we have two conditionals that can follow an `if`. \n",
    "\n",
    "- `else` - only used in conjunction with `if`. Tells Python what to do if the condition in the `if` statement is not met.\n",
    "- `elif` - \"else if\" - only used in conjunction with `if`. Gives Python a second conditional to evaluate if the previous `if` conditional is not met.\n",
    "\n",
    "An example of how to use an `else` statement is:"
   ]
  },
  {
   "cell_type": "code",
   "execution_count": 92,
   "id": "a66e991b",
   "metadata": {},
   "outputs": [
    {
     "name": "stdout",
     "output_type": "stream",
     "text": [
      "Condition failed!\n"
     ]
    }
   ],
   "source": [
    "a = \"Goodbye!\"\n",
    "\n",
    "if a == \"Hello!\":\n",
    "    print(a)\n",
    "    \n",
    "else:\n",
    "    print(\"Condition failed!\")"
   ]
  },
  {
   "cell_type": "markdown",
   "id": "69f485a0",
   "metadata": {},
   "source": [
    "Notice that if you follow an `if` with an `else`, then all possibilities will be covered, and Python will execute either the `if` statement if the condition is met or the `else` statement if the condition is not. Notice also that the `else` statement does not require a condition. This is because the `else` statement executes under all other conditions where the `if` condition is not true.\n",
    "\n",
    "Finally, we can chain together contingent conditional statements using `elif`. `elif` sets up a second `if` that only executes if the first `if` fails. Other than that, it has the same rules as any other `if` statement."
   ]
  },
  {
   "cell_type": "code",
   "execution_count": 93,
   "id": "7fb2b496",
   "metadata": {},
   "outputs": [
    {
     "name": "stdout",
     "output_type": "stream",
     "text": [
      "Goodbye!\n"
     ]
    }
   ],
   "source": [
    "a = \"Goodbye!\"\n",
    "\n",
    "if a == \"Hello!\":\n",
    "    print(a)\n",
    "\n",
    "elif a == \"Goodbye!\":\n",
    "    print(a)\n",
    "    \n",
    "else:\n",
    "    print(\"Condition failed!\")"
   ]
  },
  {
   "cell_type": "markdown",
   "id": "9353f36d",
   "metadata": {},
   "source": [
    "## Some final things\n",
    "### f-notation\n",
    "\n",
    "The print statement can be told to print output in line with strings. This is super useful when you need to combine text output with non-text output that you want to include. The basic notation is `print(f'<enter_text> {non_text_information}')`. The curly braces `{}` tell Python to exit the string and evaluate the information inside as code, then print the output. An example follows:"
   ]
  },
  {
   "cell_type": "code",
   "execution_count": 94,
   "id": "3c1b6f20",
   "metadata": {},
   "outputs": [
    {
     "name": "stdout",
     "output_type": "stream",
     "text": [
      "This is an example of how to use f-notation: x + y = 4\n"
     ]
    }
   ],
   "source": [
    "x=2\n",
    "y=2\n",
    "\n",
    "print(f'This is an example of how to use f-notation: x + y = {x+y}')"
   ]
  },
  {
   "cell_type": "markdown",
   "id": "652a17e7",
   "metadata": {},
   "source": [
    "### Comments\n",
    "\n",
    "Commenting is a user friendly way of telling Python when you don't want code to run. Commented lines are done by typing the `#` symbol. Any text that follows the `#` will be ignored by Python when it's evaluating your code. The comment will show as grayed out text:"
   ]
  },
  {
   "cell_type": "code",
   "execution_count": 95,
   "id": "aed9eaae",
   "metadata": {},
   "outputs": [
    {
     "name": "stdout",
     "output_type": "stream",
     "text": [
      "This is an example of how to use f-notation: x + y = 4\n"
     ]
    }
   ],
   "source": [
    "#This is a comment, python will ignore this line when it is running code.\n",
    "x=2\n",
    "y=2\n",
    "#z=3\n",
    "\n",
    "print(f'This is an example of how to use f-notation: x + y = {x+y}')"
   ]
  },
  {
   "cell_type": "markdown",
   "id": "d2cec261",
   "metadata": {},
   "source": [
    "Be careful however, if you comment out code and then want to use it, you will need to uncomment it."
   ]
  },
  {
   "cell_type": "code",
   "execution_count": 96,
   "id": "bc9c319e",
   "metadata": {},
   "outputs": [
    {
     "ename": "NameError",
     "evalue": "name 'z' is not defined",
     "output_type": "error",
     "traceback": [
      "\u001b[1;31m---------------------------------------------------------------------------\u001b[0m",
      "\u001b[1;31mNameError\u001b[0m                                 Traceback (most recent call last)",
      "\u001b[1;32mC:\\Users\\HARLAN~1\\AppData\\Local\\Temp/ipykernel_10080/1127405585.py\u001b[0m in \u001b[0;36m<module>\u001b[1;34m\u001b[0m\n\u001b[0;32m      1\u001b[0m \u001b[1;31m#z=3\u001b[0m\u001b[1;33m\u001b[0m\u001b[1;33m\u001b[0m\u001b[0m\n\u001b[1;32m----> 2\u001b[1;33m \u001b[0mprint\u001b[0m\u001b[1;33m(\u001b[0m\u001b[0mz\u001b[0m\u001b[1;33m)\u001b[0m\u001b[1;33m\u001b[0m\u001b[1;33m\u001b[0m\u001b[0m\n\u001b[0m",
      "\u001b[1;31mNameError\u001b[0m: name 'z' is not defined"
     ]
    }
   ],
   "source": [
    "#z=3\n",
    "print(z)"
   ]
  },
  {
   "cell_type": "markdown",
   "id": "7b51a38c",
   "metadata": {},
   "source": [
    "# Exercises\n",
    "Please do the following exercises to practice your basic python skills!\n",
    "\n",
    "1. Write a `print()` statement stating your name and favorite food."
   ]
  },
  {
   "cell_type": "code",
   "execution_count": null,
   "id": "f03b6471",
   "metadata": {},
   "outputs": [],
   "source": [
    "print()"
   ]
  },
  {
   "cell_type": "markdown",
   "id": "0b852ad6",
   "metadata": {},
   "source": [
    "2. Write a `print()` statement stating your name and favorite food with f-notation:"
   ]
  },
  {
   "cell_type": "code",
   "execution_count": null,
   "id": "b7b963ae",
   "metadata": {},
   "outputs": [],
   "source": [
    "name = \n",
    "fav_food = \n",
    "\n",
    "print()"
   ]
  },
  {
   "cell_type": "markdown",
   "id": "8f07b231",
   "metadata": {},
   "source": [
    "3. Write code to evaluate the following expressions:\n",
    "    - 2 plus 6\n",
    "    - 31 minus 23\n",
    "    - 4 times 5\n",
    "    - 3 raised to the power of 4"
   ]
  },
  {
   "cell_type": "code",
   "execution_count": null,
   "id": "b6dbafa2",
   "metadata": {},
   "outputs": [],
   "source": [
    "#Write your code here\n"
   ]
  },
  {
   "cell_type": "markdown",
   "id": "bcb751e8",
   "metadata": {},
   "source": [
    "4. Write a logical statement that compares two variables that you assign that returns True if they are equal and False if they are not"
   ]
  },
  {
   "cell_type": "code",
   "execution_count": null,
   "id": "dc27aa3e",
   "metadata": {},
   "outputs": [],
   "source": [
    "a = \n",
    "b = \n",
    "\n",
    "#Write your logical here\n"
   ]
  },
  {
   "cell_type": "markdown",
   "id": "03c99e71",
   "metadata": {},
   "source": [
    "5. Assign numbers to three variables and write a condition that evaluates to True if the first two numbers add up to the third"
   ]
  },
  {
   "cell_type": "code",
   "execution_count": null,
   "id": "9827bca2",
   "metadata": {},
   "outputs": [],
   "source": [
    "a = \n",
    "b = \n",
    "c = \n",
    "\n",
    "#write your logical here\n"
   ]
  },
  {
   "cell_type": "markdown",
   "id": "087a7434",
   "metadata": {},
   "source": [
    "6. Assign numbers to three variables and write a condition that evaluates to True if the first two numbers DO NOT add up to the third"
   ]
  },
  {
   "cell_type": "code",
   "execution_count": null,
   "id": "b438f2af",
   "metadata": {},
   "outputs": [],
   "source": [
    "a = \n",
    "b = \n",
    "c = \n",
    "\n",
    "#Write your conditional here\n"
   ]
  },
  {
   "cell_type": "markdown",
   "id": "2cc04620",
   "metadata": {},
   "source": [
    "6. Write an if statement that prints out an acknowledgement whether two numbers add up to be greater than some threshold"
   ]
  },
  {
   "cell_type": "code",
   "execution_count": null,
   "id": "91c56da5",
   "metadata": {},
   "outputs": [],
   "source": [
    "a = \n",
    "b = \n",
    "threshold = \n",
    "\n",
    "#Write your conditional here\n"
   ]
  },
  {
   "cell_type": "markdown",
   "id": "855f791e",
   "metadata": {},
   "source": [
    "7. Write an if statement that determines whether or not the sum of two numbers is even or odd"
   ]
  },
  {
   "cell_type": "code",
   "execution_count": null,
   "id": "d5a4606e",
   "metadata": {},
   "outputs": [],
   "source": [
    "a = \n",
    "b = \n",
    "\n",
    "#write your conditional here\n"
   ]
  },
  {
   "cell_type": "markdown",
   "id": "a4f0b588",
   "metadata": {},
   "source": [
    "8. Write an if statement that determines if one number `a` is divisible by another number `b` and prints an acknowledgement."
   ]
  },
  {
   "cell_type": "code",
   "execution_count": null,
   "id": "ab58918b",
   "metadata": {},
   "outputs": [],
   "source": [
    "a = \n",
    "b = \n",
    "\n",
    "#Write your conditional here\n"
   ]
  },
  {
   "cell_type": "markdown",
   "id": "78664e1b",
   "metadata": {},
   "source": [
    "9. Write an if/else statement that determines if one number a is divisible by another number b and prints an acknowledgement if it is, and a warning if it does not."
   ]
  },
  {
   "cell_type": "code",
   "execution_count": null,
   "id": "6ddc7d73",
   "metadata": {},
   "outputs": [],
   "source": [
    "a = \n",
    "b = \n",
    "\n",
    "#Write your conditional here\n"
   ]
  },
  {
   "cell_type": "markdown",
   "id": "d4a207f4",
   "metadata": {},
   "source": [
    "10. Write an if statement that determines the maximum of two numbers. How would you handle the case where the numbers were equal?"
   ]
  },
  {
   "cell_type": "code",
   "execution_count": null,
   "id": "a65f6708",
   "metadata": {},
   "outputs": [],
   "source": [
    "a = \n",
    "b = \n",
    "\n",
    "#Write your code here\n"
   ]
  },
  {
   "cell_type": "markdown",
   "id": "c07a5846",
   "metadata": {},
   "source": [
    "11. Write an if statement that takes three angle measurements in degrees and determines if a valid triangle can be formed with these angles"
   ]
  },
  {
   "cell_type": "code",
   "execution_count": null,
   "id": "3dec003e",
   "metadata": {},
   "outputs": [],
   "source": [
    "x = \n",
    "y = \n",
    "z = \n",
    "\n",
    "#Write your code here\n"
   ]
  },
  {
   "cell_type": "markdown",
   "id": "830a2119",
   "metadata": {},
   "source": [
    "12. Continuing with the above, write a program that checks whether the triangle is valid, and if so, prints the type of triangle as equilateral, isoceles, or scalene. (Hint: you can use `if` statements inside other `if` statements!)"
   ]
  },
  {
   "cell_type": "code",
   "execution_count": null,
   "id": "fcba5c8c",
   "metadata": {},
   "outputs": [],
   "source": [
    "x = \n",
    "y = \n",
    "z = \n",
    "\n",
    "#Write your code here\n"
   ]
  },
  {
   "cell_type": "markdown",
   "id": "ebca32d1",
   "metadata": {},
   "source": [
    "13: Write a program to input a student's marks on an exam and output a letter grade. Calculate percentage and grade according to following:\n",
    "- Percentage >= 90% : Grade A\n",
    "- Percentage >= 80% : Grade B\n",
    "- Percentage >= 70% : Grade C\n",
    "- Percentage >= 60% : Grade D\n",
    "- Percentage < 60% : Grade F\n",
    "\n",
    "(Hint use `elif` statements here)"
   ]
  },
  {
   "cell_type": "code",
   "execution_count": null,
   "id": "c3d9d2c8",
   "metadata": {},
   "outputs": [],
   "source": [
    "exam_grade = \n",
    "\n",
    "#Write your conditional here\n"
   ]
  },
  {
   "cell_type": "markdown",
   "id": "24f9a7e8",
   "metadata": {},
   "source": [
    "14. Write a program that determines if a number is evenly divisible by both 2 and 3. "
   ]
  },
  {
   "cell_type": "code",
   "execution_count": null,
   "id": "ba87925b",
   "metadata": {},
   "outputs": [],
   "source": [
    "a = \n",
    "\n",
    "#Write your code here\n"
   ]
  },
  {
   "cell_type": "markdown",
   "id": "cc94c59b",
   "metadata": {},
   "source": [
    "15. Write a program to check and report whether the data type of an input is a digit, decimal number, or string, or an \"unknown data type\" if it does not match any of these."
   ]
  },
  {
   "cell_type": "code",
   "execution_count": null,
   "id": "fe515b37",
   "metadata": {},
   "outputs": [],
   "source": [
    "a = \n",
    "\n",
    "#Write your code here\n"
   ]
  }
 ],
 "metadata": {
  "kernelspec": {
   "display_name": "Python 3 (ipykernel)",
   "language": "python",
   "name": "python3"
  },
  "language_info": {
   "codemirror_mode": {
    "name": "ipython",
    "version": 3
   },
   "file_extension": ".py",
   "mimetype": "text/x-python",
   "name": "python",
   "nbconvert_exporter": "python",
   "pygments_lexer": "ipython3",
   "version": "3.9.7"
  }
 },
 "nbformat": 4,
 "nbformat_minor": 5
}
