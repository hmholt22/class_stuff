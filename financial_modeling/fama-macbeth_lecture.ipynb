{
 "cells": [
  {
   "cell_type": "markdown",
   "id": "4acd7303",
   "metadata": {},
   "source": [
    "# A Closer look at Fama-MacBeth (1973)\n",
    "\n",
    "In this exercise, let's go through an early test of CAPM - Fama and MacBeth's (1973) study on cross-sectional returns. Specifically, we're interested in estimating the market risk premium - i.e. does the market reward taking on risk with higher expected returns (C3 in Fama-MacBeth)?\n",
    "\n",
    "## Motivation\n",
    "\n",
    "The model we have been studying is an expected return-beta model, or in other words a model of the form:\n",
    "\n",
    "$$R_i = \\alpha_i + \\beta_i E(f)$$\n",
    "\n",
    "That is the returns of an asset are a function of some universal factor $f$, scaled by $\\beta$, the individual stock's sensitivity to changes in that factor, with some unexplainable part $\\alpha$ that we expect to be equal to zero. CAPM suggests the sole factor that determines the return on the asset is the market excess return, so that\n",
    "\n",
    "$$R_i = \\alpha_i + \\beta_i MKT$$\n",
    "\n",
    "### So why can't we just use OLS to estimate this equation?\n",
    "\n",
    "There are two problems with this approach that violate the usual OLS assumptions. \n",
    "\n",
    "1. Normally, we expect our covariates to be fixed-point constants, not random variables. However, since the $\\beta$'s are outcomes of a statistical model, they themselves are random variables, so this assumption is violated (these are called *generated regressors*). The use of generated regressors does not affect the coefficient estimates, but does cause the standard errors to be under-estimated, so hypothesis testing is invalid. \n",
    "\n",
    "2. More seriously, the $\\alpha$'s are significantly correlated across assets via industry effects. If Microsoft got lucky this period, it's likely that Google also got lucky in the same period. This is a big problem for cross-sectional regressions because the $\\alpha$'s are actually our error terms, and one important assumption for OLS is that the error terms are i.i.d. Since this isn't the case, OLS cannot apply to the equation above. \n",
    "\n",
    "### Estimating cross-sectional returns\n",
    "\n",
    "The market factor is the same for all stocks $i$ at each individual time period $t$, so the hypothesis that CAPM suggests is that higher $\\beta$ should result in higher returns given a cross-section of individual assets! These betas can be estimated in the usual way with time-series regressions as we've already seen. For each individual stock $i$, we can estimate:\n",
    "\n",
    "$$R_{i,t} = \\alpha_{i,t} + \\hat{\\beta} MKT_t + \\varepsilon_{i,t}$$\n",
    "\n",
    "Then collect the betas and use them for estimation of future returns.\n",
    "\n",
    "### Estimating the average risk premium\n",
    "\n",
    "We should expect to be able to run this across a large cross section of stocks and observe the relationship between beta and the expected return of an individual asset. That is, we should be able to discover how sensitive asset returns are to their individual beta's with a regression like:\n",
    "\n",
    "$$E(R_i) = (\\gamma_i) + \\lambda \\beta_i + \\alpha_i$$\n",
    "\n",
    "Notice this reduces to CAPM when $\\lambda = MKT$ - something we can check in the analysis. This carries the crucial advantage of eliminating the cross-sectional correlation in the $\\alpha$'s by dispersing the correlation throughout the sample in the first regression. Neat!\n",
    "\n",
    "We can run this regression and test the hypothesis that $\\lambda > 0$, or that higher beta's should be associated with higher expected returns on a stock (or portfolio of stocks), in order to get some idea of how the market is pricing in risk. ($\\gamma_i$ is included in parentheses here to indicate that one can include a constant in this regression or not. The reason is that $\\beta = 0$ implies a riskless asset. We've already factored in the risk free rate when we calculated excess returns, so this intercept should be zero.)\n",
    "\n",
    "Econometrically speaking, that gives us a task - we need to estimate the parameters $\\hat{\\alpha}$, $\\hat{\\beta}$, and $\\hat{\\lambda}$, along with the standard errors $\\sigma(\\hat{\\alpha})$, $\\sigma(\\hat{\\beta})$, and $\\sigma(\\hat{\\lambda})$."
   ]
  },
  {
   "cell_type": "code",
   "execution_count": 1,
   "id": "a27fada2",
   "metadata": {},
   "outputs": [],
   "source": [
    "import numpy as np\n",
    "import pandas as pd\n",
    "np.random.seed(42)\n",
    "\n",
    "import matplotlib.pyplot as plt\n",
    "from sklearn.linear_model import LinearRegression"
   ]
  },
  {
   "cell_type": "markdown",
   "id": "99fd29b5",
   "metadata": {},
   "source": [
    "Let's start by setting up a simulated market environment to explore this model. We'll set the risk-free rate of return to 1\\%, and simulate data for 2000 firms over 2520 (approximately 10 years of trading days worth of returns)."
   ]
  },
  {
   "cell_type": "code",
   "execution_count": 2,
   "id": "40518dce",
   "metadata": {},
   "outputs": [],
   "source": [
    "#Declare parameters and constants\n",
    "rf = 0.01\n",
    "N = 2000\n",
    "T = 2520 #Approx 10 years of trading days\n",
    "dt = 1/252 #length of a single time unit to calculate daily returns\n",
    "s = np.sqrt(0.5*dt)"
   ]
  },
  {
   "cell_type": "markdown",
   "id": "95175712",
   "metadata": {},
   "source": [
    "Next let's simulate a set of betas for all 2000 stocks, and a market excess factor (`mkt`) for each day of our simualted market. Lastly we'll use the betas and our market factor to generate simulated \"true\" returns for our stocks over the period. Note that I'm assuming an average market return of 6\\%. Since we're using daily returns, I have to multiply this by `dt`. This gets us the first term in `mkt`. The second is just a generated error around this trend."
   ]
  },
  {
   "cell_type": "code",
   "execution_count": 3,
   "id": "fb790e70",
   "metadata": {},
   "outputs": [],
   "source": [
    "#Create simulated market returns\n",
    "beta_true = np.random.normal(1, 0.25, (N, 1)) #create true betas\n",
    "mkt = 0.06*dt + np.random.standard_normal((T, 1)) #market excess factor\n",
    "\n",
    "#Calculate market returns data\n",
    "data= rf*dt + np.transpose(beta_true) * mkt + s*np.random.standard_normal((T, N))"
   ]
  },
  {
   "cell_type": "code",
   "execution_count": 4,
   "id": "a92ed09a",
   "metadata": {},
   "outputs": [
    {
     "data": {
      "text/plain": [
       "-0.02557206911724391"
      ]
     },
     "execution_count": 4,
     "metadata": {},
     "output_type": "execute_result"
    },
    {
     "data": {
      "image/png": "[encoded data removed]",
      "text/plain": [
       "<Figure size 432x288 with 1 Axes>"
      ]
     },
     "metadata": {
      "needs_background": "light"
     },
     "output_type": "display_data"
    }
   ],
   "source": [
    "#plot histogram of generated betas\n",
    "plt.hist(beta_true)\n",
    "np.mean(mkt)"
   ]
  },
  {
   "cell_type": "markdown",
   "id": "aaf8d94d",
   "metadata": {},
   "source": [
    "Let's pick one stock from our simulated data and take a look just to make sure everything's behaving well. Here we grab stock \\#21 from our portfolio and plot the returns over time. "
   ]
  },
  {
   "cell_type": "code",
   "execution_count": 5,
   "id": "33bbf370",
   "metadata": {},
   "outputs": [],
   "source": [
    "y = data[:, 20] #pick data for one stock to test"
   ]
  },
  {
   "cell_type": "markdown",
   "id": "ead6b0eb",
   "metadata": {},
   "source": [
    "Now let's do a sanity check by regressing the market excess factor onto the simulated returns to estimate a beta (like we did before). Here we're using `sklearn` to do the regression (You can use statsmodels if you want instead)."
   ]
  },
  {
   "cell_type": "code",
   "execution_count": 6,
   "id": "c07436b3",
   "metadata": {},
   "outputs": [
    {
     "name": "stdout",
     "output_type": "stream",
     "text": [
      "Intercept: -0.0019394713377994602\n",
      "Estimated beta: 1.3681158031166554\n",
      "True beta: 1.3664121922303885\n"
     ]
    }
   ],
   "source": [
    "model = LinearRegression()\n",
    "model.fit(mkt, y)\n",
    "\n",
    "print(f'Intercept: {model.intercept_}')\n",
    "print(f'Estimated beta: {model.coef_[0]}')\n",
    "print(f'True beta: {beta_true[20][0]}')"
   ]
  },
  {
   "cell_type": "markdown",
   "id": "25390562",
   "metadata": {},
   "source": [
    "Good news! Our estimated beta is very close to the true beta, so the simulated data makes sense.\n",
    "\n",
    "Now let's start on the Fama-MacBeth procedure. There are two steps to Fama-MacBeth regressions: (1) we need to do time series regressions to obtain estimated betas for every firm, and (2) we need to regress the individual cross sections at each time period on the estimated beta's to estimate the slope of the efficient frontier.\n",
    "\n",
    "First we'll need to estimate betas for all 2000 firms in our sample. (And yes, that means we'll need to do 2000 regressions)"
   ]
  },
  {
   "cell_type": "code",
   "execution_count": 315,
   "id": "9016c0dd",
   "metadata": {},
   "outputs": [],
   "source": [
    "#Set up array of results\n",
    "b = []\n",
    "\n",
    "#Loop through data and gather coefficients\n",
    "for i in range(N):\n",
    "    y = data[:, i]\n",
    "    model = LinearRegression()\n",
    "    model.fit(mkt, y)\n",
    "    b.append(model.coef_[0])"
   ]
  },
  {
   "cell_type": "code",
   "execution_count": 316,
   "id": "11e00108",
   "metadata": {},
   "outputs": [
    {
     "data": {
      "text/plain": [
       "(array([ 11.,  39., 139., 315., 513., 487., 315., 136.,  37.,   8.]),\n",
       " array([0.18235127, 0.34579623, 0.50924119, 0.67268615, 0.8361311 ,\n",
       "        0.99957606, 1.16302102, 1.32646598, 1.48991094, 1.6533559 ,\n",
       "        1.81680086]),\n",
       " <BarContainer object of 10 artists>)"
      ]
     },
     "execution_count": 316,
     "metadata": {},
     "output_type": "execute_result"
    },
    {
     "data": {
      "image/png": "[encoded data removed]",
      "text/plain": [
       "<Figure size 432x288 with 1 Axes>"
      ]
     },
     "metadata": {
      "needs_background": "light"
     },
     "output_type": "display_data"
    }
   ],
   "source": [
    "#Histogram of estimated beta coefficients\n",
    "plt.hist(b)"
   ]
  },
  {
   "cell_type": "markdown",
   "id": "e75e9e7c",
   "metadata": {},
   "source": [
    "Now that we have our betas, let's do step 2 - the cross sectional regressions. Once again, we'll need to do cross sectional regressions of all the stock returns each period on the betas of the stocks"
   ]
  },
  {
   "cell_type": "code",
   "execution_count": 317,
   "id": "0127f5b2",
   "metadata": {},
   "outputs": [],
   "source": [
    "b = np.array(b)\n",
    "b=b.reshape(-1,1)\n",
    "\n",
    "res = []\n",
    "\n",
    "for i in range(T):\n",
    "    y = data[i, :]\n",
    "    model = LinearRegression()\n",
    "    model.fit(b, y)\n",
    "    res.append(model.coef_[0])"
   ]
  },
  {
   "cell_type": "code",
   "execution_count": 318,
   "id": "123398ed",
   "metadata": {},
   "outputs": [
    {
     "data": {
      "text/html": [
       "<div>\n",
       "<style scoped>\n",
       "    .dataframe tbody tr th:only-of-type {\n",
       "        vertical-align: middle;\n",
       "    }\n",
       "\n",
       "    .dataframe tbody tr th {\n",
       "        vertical-align: top;\n",
       "    }\n",
       "\n",
       "    .dataframe thead th {\n",
       "        text-align: right;\n",
       "    }\n",
       "</style>\n",
       "<table border=\"1\" class=\"dataframe\">\n",
       "  <thead>\n",
       "    <tr style=\"text-align: right;\">\n",
       "      <th></th>\n",
       "      <th>0</th>\n",
       "    </tr>\n",
       "  </thead>\n",
       "  <tbody>\n",
       "    <tr>\n",
       "      <th>count</th>\n",
       "      <td>2520.000000</td>\n",
       "    </tr>\n",
       "    <tr>\n",
       "      <th>mean</th>\n",
       "      <td>0.025641</td>\n",
       "    </tr>\n",
       "    <tr>\n",
       "      <th>std</th>\n",
       "      <td>1.025101</td>\n",
       "    </tr>\n",
       "    <tr>\n",
       "      <th>min</th>\n",
       "      <td>-3.467214</td>\n",
       "    </tr>\n",
       "    <tr>\n",
       "      <th>25%</th>\n",
       "      <td>-0.682629</td>\n",
       "    </tr>\n",
       "    <tr>\n",
       "      <th>50%</th>\n",
       "      <td>0.017422</td>\n",
       "    </tr>\n",
       "    <tr>\n",
       "      <th>75%</th>\n",
       "      <td>0.708741</td>\n",
       "    </tr>\n",
       "    <tr>\n",
       "      <th>max</th>\n",
       "      <td>3.501259</td>\n",
       "    </tr>\n",
       "  </tbody>\n",
       "</table>\n",
       "</div>"
      ],
      "text/plain": [
       "                 0\n",
       "count  2520.000000\n",
       "mean      0.025641\n",
       "std       1.025101\n",
       "min      -3.467214\n",
       "25%      -0.682629\n",
       "50%       0.017422\n",
       "75%       0.708741\n",
       "max       3.501259"
      ]
     },
     "execution_count": 318,
     "metadata": {},
     "output_type": "execute_result"
    }
   ],
   "source": [
    "df = pd.DataFrame(res)\n",
    "df.describe()"
   ]
  },
  {
   "cell_type": "markdown",
   "id": "89ea260a",
   "metadata": {},
   "source": [
    "By taking the average of the $\\lambda$'s across the whole sample, we can get an idea of the market risk premium (i.e. how much the market compensates investors for taking on additional risk). Notice that our mean risk premium is almost equal to the average of the market excess factor (Exactly as Sharpe/Lintner predicted!!). "
   ]
  },
  {
   "cell_type": "code",
   "execution_count": 319,
   "id": "1e39c00d",
   "metadata": {},
   "outputs": [
    {
     "name": "stdout",
     "output_type": "stream",
     "text": [
      "Mean risk premium:  0    0.025641\n",
      "dtype: float64\n",
      "Mean market factor return:  0.025683944074620466\n"
     ]
    }
   ],
   "source": [
    "print('Mean risk premium: ', df.mean())\n",
    "print('Mean market factor return: ', np.mean(mkt))"
   ]
  },
  {
   "cell_type": "markdown",
   "id": "f46f6b86",
   "metadata": {},
   "source": [
    "We can do traditional hypothesis testing and see if our results make sense. The p-value of 0.1 indicates the risk premium we found is significant at the 10% level. \n",
    "\n",
    "(Other rolls of this notebook suggested varying degrees of statistical significance - this is largely a function of how I set up the daily variation, but largely replicates the original Fama-MacBeth findings - many of their regressions were barely significant or not at all)"
   ]
  },
  {
   "cell_type": "code",
   "execution_count": 320,
   "id": "e2b980d1",
   "metadata": {},
   "outputs": [],
   "source": [
    "se = df.std()/np.sqrt(T)\n",
    "t_score = df.mean()/se"
   ]
  },
  {
   "cell_type": "code",
   "execution_count": 321,
   "id": "7c917fc2",
   "metadata": {},
   "outputs": [
    {
     "data": {
      "text/plain": [
       "0.10467850913894938"
      ]
     },
     "execution_count": 321,
     "metadata": {},
     "output_type": "execute_result"
    }
   ],
   "source": [
    "from scipy.stats import t\n",
    "p_value = t.sf(t_score, T)[0]\n",
    "p_value"
   ]
  },
  {
   "cell_type": "markdown",
   "id": "3be5a6a3",
   "metadata": {},
   "source": [
    "## Conclusion\n",
    "\n",
    "Fama-MacBeth (1973) is a seminal paper in the field of asset pricing, and all who go into the industry should have a good working knowledge of how it is done. \n",
    "\n",
    "Since then there have been many improvements on this paper. For one, it tends to produce market risk premia that are \"too low\", i.e. that the premium offered does not match what we would expect reasonably risk averse investors to be willing to accept. Lastly, It can be shown that the market return factor by itself is not sufficient to explain all of the variation in stock portfolios. A significant variation can also be explained in small vs. large stocks, and growth vs value stocks (Malkiel references this a number of times). \n",
    "\n",
    "These findings have produced a ton of research and led to the very popular Fama-French models of the 1990s which include factors other than the market factor. We'll be exploring those models next!"
   ]
  }
 ],
 "metadata": {
  "kernelspec": {
   "display_name": "Python 3 (ipykernel)",
   "language": "python",
   "name": "python3"
  },
  "language_info": {
   "codemirror_mode": {
    "name": "ipython",
    "version": 3
   },
   "file_extension": ".py",
   "mimetype": "text/x-python",
   "name": "python",
   "nbconvert_exporter": "python",
   "pygments_lexer": "ipython3",
   "version": "3.9.7"
  }
 },
 "nbformat": 4,
 "nbformat_minor": 5
}
